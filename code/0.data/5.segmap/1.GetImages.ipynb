{
 "cells": [
  {
   "cell_type": "markdown",
   "metadata": {},
   "source": [
    "# Use SkyView to download cutout images for MaNGA Pairs"
   ]
  },
  {
   "cell_type": "code",
   "execution_count": 1,
   "metadata": {},
   "outputs": [],
   "source": [
    "import numpy as np\n",
    "from astropy.io import fits\n",
    "from astroquery.skyview import SkyView\n",
    "from os.path import exists\n",
    "\n",
    "# megadata\n",
    "drpall = fits.getdata('/Users/fu/work/manga/pairs/final_clean/0.drpall/drpall_clean.fits')\n",
    "ncomps = fits.getdata('/Users/fu/work/manga/pairs/final_clean/4.pairs/ncomp.fits')\n",
    "# select pairs\n",
    "pidx = (ncomps['ngood']>=2)"
   ]
  },
  {
   "cell_type": "code",
   "execution_count": 7,
   "metadata": {},
   "outputs": [
    {
     "name": "stdout",
     "output_type": "stream",
     "text": [
      "206 rband/8555-6103.fits 247.097140, 43.957613\n",
      "748 rband/12075-6102.fits 19.093872, -0.209275\n"
     ]
    }
   ],
   "source": [
    "for i in range(len(drpall[pidx])):\n",
    "#for i in [748,749]:\n",
    "    #coords = str(drpall['ifura'][pidx][i])+', '+str(drpall['ifudec'][pidx][i])\n",
    "    coords = \"{:.6f}\".format(drpall['ifura'][pidx][i])+', '+\"{:.6f}\".format(drpall['ifudec'][pidx][i])\n",
    "    outfil = 'rband/'+drpall['plateifu'][pidx][i]+'.fits'\n",
    "    if exists(outfil):\n",
    "        continue\n",
    "    print(i,outfil,coords)\n",
    "    # download cutout image (SDSSg = SDSS DR9 g-band, default size: 300x300, 0.4\"/pix -> 2' wide images)\n",
    "    hduls = SkyView().get_images(position=coords,pixels=150,survey='SDSSdr7r')\n",
    "    # save FITS files\n",
    "    hduls[0].writeto(outfil,overwrite=True)"
   ]
  },
  {
   "cell_type": "code",
   "execution_count": null,
   "metadata": {},
   "outputs": [],
   "source": []
  }
 ],
 "metadata": {
  "interpreter": {
   "hash": "9f11addec59fe33026774d7229259cad5c75208bf40a1e7be2d5e44762003db8"
  },
  "kernelspec": {
   "display_name": "Python 3.9.7 64-bit ('base': conda)",
   "language": "python",
   "name": "python3"
  },
  "language_info": {
   "codemirror_mode": {
    "name": "ipython",
    "version": 3
   },
   "file_extension": ".py",
   "mimetype": "text/x-python",
   "name": "python",
   "nbconvert_exporter": "python",
   "pygments_lexer": "ipython3",
   "version": "3.9.7"
  },
  "orig_nbformat": 4
 },
 "nbformat": 4,
 "nbformat_minor": 2
}
